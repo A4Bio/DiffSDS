{
 "cells": [
  {
   "cell_type": "markdown",
   "metadata": {},
   "source": [
    "## 1. save results"
   ]
  },
  {
   "cell_type": "code",
   "execution_count": 1,
   "metadata": {},
   "outputs": [
    {
     "name": "stderr",
     "output_type": "stream",
     "text": [
      "/root/anaconda3/envs/foldingdiff/lib/python3.8/site-packages/tqdm/auto.py:22: TqdmWarning: IProgress not found. Please update jupyter and ipywidgets. See https://ipywidgets.readthedocs.io/en/stable/user_install.html\n",
      "  from .autonotebook import tqdm as notebook_tqdm\n"
     ]
    }
   ],
   "source": [
    "import sys; sys.path.append(\"/gaozhangyang/experiments/DiffSDS\")\n",
    "from utils.data_tools import ReadPDB\n",
    "import os\n",
    "import numpy as np\n",
    "from tqdm import tqdm\n",
    "import pandas as pd"
   ]
  },
  {
   "cell_type": "code",
   "execution_count": 2,
   "metadata": {},
   "outputs": [],
   "source": [
    "def load_pdb(fname):\n",
    "    ref_index, angles, coords, seqs, attn_mask, b_factor = ReadPDB.read_pdb(fname)\n",
    "    mask = (b_factor==100)\n",
    "    mask_idx = mask.nonzero()[0]\n",
    "    left = mask_idx[0]\n",
    "    right = mask_idx[-1]\n",
    "    max_idx = (b_factor>0).nonzero()[0][-1]\n",
    "    \n",
    "    return coords, left, right, max_idx, b_factor"
   ]
  },
  {
   "cell_type": "code",
   "execution_count": 3,
   "metadata": {},
   "outputs": [],
   "source": [
    "def error(pred_coords, true_coords, left, right):\n",
    "    L_left = np.linalg.norm(pred_coords[left]-true_coords[left],axis=1)[1]\n",
    "    L_right = np.linalg.norm(pred_coords[right]-true_coords[right],axis=1)[1]\n",
    "    error = L_left + L_right\n",
    "    return error\n",
    "\n",
    "def read_CA_coords(smcdiff_fname):\n",
    "    from biotite.structure.io.pdb import PDBFile\n",
    "    import biotite.structure as struc\n",
    "    source = PDBFile.read(str(smcdiff_fname))\n",
    "    source_struct = source.get_structure(extra_fields=[\"b_factor\"])[0]\n",
    "    backbone_atoms = source_struct[struc.filter_backbone(source_struct)]\n",
    "    ca = [c for c in backbone_atoms if c.atom_name in [\"CA\"]]\n",
    "    coord_arrays = np.vstack([c.coord for c in ca])\n",
    "    return coord_arrays\n",
    "\n",
    "def get_connectiveness_error(pdb_name):\n",
    "    diffsds_fname = f\"/gaozhangyang/experiments/DiffSDS/results/DiffSDS_sampling/pred_{pdb_name}.pdb\"\n",
    "    foldingdiff_fname = f\"/gaozhangyang/experiments/DiffSDS/results/Ccfoldingdiff_sampling/pred_{pdb_name}.pdb\"\n",
    "    # RFDesign_fname = f\"/gaozhangyang/experiments/RFDesign/inpainting/tests/out/test_{pdb_name}_0.pdb\"\n",
    "    # smcdiff_fname = f\"/gaozhangyang/experiments/ProreinBinder/results/inpaint_SMCDiff/pred_{pdb_name}.pdb\"\n",
    "    \n",
    "    true_frame = f\"/gaozhangyang/experiments/DiffSDS/results/DiffSDS_sampling/raw_{pdb_name}.pdb\"\n",
    "        \n",
    "    diffsds_coords, left, right, max_idx, b_factor = load_pdb(diffsds_fname)\n",
    "    foldingdiff_coords, _, _, _, _ = load_pdb(foldingdiff_fname)\n",
    "    true_coords, _, _, _, _ = load_pdb(true_frame)\n",
    "    # _, _, RFDesign_coords, _, _, _ = ReadPDB.read_pdb(RFDesign_fname)\n",
    "    # SMC_coords = read_CA_coords(smcdiff_fname)\n",
    "\n",
    "    diffsds_error = error(diffsds_coords, true_coords, left, right)\n",
    "    foldingdiff_error = error(foldingdiff_coords, true_coords, left, right)\n",
    "    # RFDesign_error = error(RFDesign_coords, true_coords, left, right)\n",
    "    # SMC_error = error(SMC_coords, true_coords, left, right)\n",
    "    \n",
    "    return (right-left)+1, max_idx+1, diffsds_error, foldingdiff_error"
   ]
  },
  {
   "cell_type": "code",
   "execution_count": 7,
   "metadata": {},
   "outputs": [
    {
     "name": "stderr",
     "output_type": "stream",
     "text": [
      "100%|██████████| 378/378 [00:13<00:00, 27.94it/s]\n"
     ]
    }
   ],
   "source": [
    "pdb_name_list = os.listdir(\"/gaozhangyang/experiments/DiffSDS/results/DiffSDS_sampling/\")\n",
    "pdb_name_list = [one for one in pdb_name_list if \"pred_\" in one]\n",
    "pdb_name_list = [one.split(\"_\")[-1][:-4] for one in pdb_name_list]\n",
    "\n",
    "error_table = pd.DataFrame(columns=[\"mask_len\", \"len\", \"diffsds_error\", \"foldingdiff_error\", \"SMC_error\", \"RFDesign_error\"])\n",
    "for i, pdb_name in enumerate(tqdm(pdb_name_list)):\n",
    "    mask_len, all_len, diffsds_error, foldingdiff_error = get_connectiveness_error(pdb_name)\n",
    "    error_table.loc[i, \"mask_len\"] = mask_len\n",
    "    error_table.loc[i, \"len\"] = all_len\n",
    "    error_table.loc[i, \"diffsds_error\"] = diffsds_error\n",
    "    error_table.loc[i, \"foldingdiff_error\"] = foldingdiff_error\n",
    "    # error_table.loc[i, \"RFDesign_error\"] = RFDesign_error\n",
    "    # error_table.loc[i, \"SMC_error\"] = SMC_error\n",
    "error_table.to_csv(\"./results/connectiveness.csv\")"
   ]
  },
  {
   "cell_type": "markdown",
   "metadata": {},
   "source": [
    "## 2. 统计"
   ]
  },
  {
   "cell_type": "code",
   "execution_count": 8,
   "metadata": {},
   "outputs": [],
   "source": [
    "error_table.loc[:,\"one\"] = 1\n",
    "diffsds_error_per_length = error_table.groupby('mask_len')[\"diffsds_error\"].sum()/error_table.groupby('mask_len')[\"one\"].sum()\n",
    "foldingdiff_error_per_length = error_table.groupby('mask_len')[\"foldingdiff_error\"].sum()/error_table.groupby('mask_len')[\"one\"].sum()"
   ]
  },
  {
   "cell_type": "code",
   "execution_count": 10,
   "metadata": {},
   "outputs": [
    {
     "name": "stdout",
     "output_type": "stream",
     "text": [
      "10.847035554070306 18.936291400102164 27.97886862073626\n"
     ]
    }
   ],
   "source": [
    "print(foldingdiff_error_per_length[:11].mean(), foldingdiff_error_per_length[11:26].mean(), foldingdiff_error_per_length[26:].mean())"
   ]
  },
  {
   "cell_type": "code",
   "execution_count": 11,
   "metadata": {},
   "outputs": [
    {
     "name": "stdout",
     "output_type": "stream",
     "text": [
      "6.770061509793061 9.276604485444057 7.731335335686093\n"
     ]
    }
   ],
   "source": [
    "print(diffsds_error_per_length[:11].mean(), diffsds_error_per_length[11:26].mean(), diffsds_error_per_length[26:].mean())"
   ]
  },
  {
   "cell_type": "code",
   "execution_count": 11,
   "metadata": {},
   "outputs": [],
   "source": [
    "statistics = pd.DataFrame(columns=[\"mask_len\", \"RFDesign_error\", \"foldingdiff_error\", \"diffsds_error\", \"smc_error\"])\n",
    "statistics['mask_len'] = foldingdiff_error_per_length.index\n",
    "statistics['foldingdiff_error'] = foldingdiff_error_per_length.values\n",
    "statistics['diffsds_error'] = diffsds_error_per_length.values\n",
    "statistics.to_csv(\"/gaozhangyang/experiments/ProreinBinder/evaluate/results/statistics_connectiveness.csv\")"
   ]
  }
 ],
 "metadata": {
  "kernelspec": {
   "display_name": "foldingdiff",
   "language": "python",
   "name": "python3"
  },
  "language_info": {
   "codemirror_mode": {
    "name": "ipython",
    "version": 3
   },
   "file_extension": ".py",
   "mimetype": "text/x-python",
   "name": "python",
   "nbconvert_exporter": "python",
   "pygments_lexer": "ipython3",
   "version": "3.8.13"
  },
  "orig_nbformat": 4
 },
 "nbformat": 4,
 "nbformat_minor": 2
}
